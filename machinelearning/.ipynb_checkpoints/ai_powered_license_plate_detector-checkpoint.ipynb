{
 "cells": [
  {
   "cell_type": "code",
   "execution_count": 2,
   "metadata": {
    "colab": {},
    "colab_type": "code",
    "id": "ycRjhI25UC-P"
   },
   "outputs": [],
   "source": [
    "import matplotlib.pyplot as plt"
   ]
  },
  {
   "cell_type": "code",
   "execution_count": 3,
   "metadata": {
    "colab": {},
    "colab_type": "code",
    "id": "MzopHrMvUC-Z"
   },
   "outputs": [],
   "source": [
    "import numpy as np\n",
    "import cv2\n",
    "\n",
    "# Match contours to license plate or character template\n",
    "def find_contours(dimensions, img) :\n",
    "\n",
    "    # Find all contours in the image\n",
    "    cntrs, _ = cv2.findContours(img.copy(), cv2.RETR_TREE, cv2.CHAIN_APPROX_SIMPLE)\n",
    "\n",
    "    # Retrieve potential dimensions\n",
    "    lower_width = dimensions[0]\n",
    "    upper_width = dimensions[1]\n",
    "    lower_height = dimensions[2]\n",
    "    upper_height = dimensions[3]\n",
    "    \n",
    "    # Check largest 5 or  15 contours for license plate or character respectively\n",
    "    cntrs = sorted(cntrs, key=cv2.contourArea, reverse=True)[:15]\n",
    "    \n",
    "    ii = cv2.imread('contour.jpg')\n",
    "    \n",
    "    x_cntr_list = []\n",
    "    target_contours = []\n",
    "    img_res = []\n",
    "    for cntr in cntrs :\n",
    "        #detects contour in binary image and returns the coordinates of rectangle enclosing it\n",
    "        intX, intY, intWidth, intHeight = cv2.boundingRect(cntr)\n",
    "        \n",
    "        #checking the dimensions of the contour to filter out the characters by contour's size\n",
    "        if intWidth > lower_width and intWidth < upper_width and intHeight > lower_height and intHeight < upper_height :\n",
    "            x_cntr_list.append(intX) #stores the x coordinate of the character's contour, to used later for indexing the contours\n",
    "\n",
    "            char_copy = np.zeros((44,24))\n",
    "            #extracting each character using the enclosing rectangle's coordinates.\n",
    "            char = img[intY:intY+intHeight, intX:intX+intWidth]\n",
    "            char = cv2.resize(char, (20, 40))\n",
    "            \n",
    "            cv2.rectangle(ii, (intX,intY), (intWidth+intX, intY+intHeight), (50,21,200), 2)\n",
    "            plt.imshow(ii, cmap='gray')\n",
    "\n",
    "#             Make result formatted for classification: invert colors\n",
    "            char = cv2.subtract(255, char)\n",
    "\n",
    "            # Resize the image to 24x44 with black border\n",
    "            char_copy[2:42, 2:22] = char\n",
    "            char_copy[0:2, :] = 0\n",
    "            char_copy[:, 0:2] = 0\n",
    "            char_copy[42:44, :] = 0\n",
    "            char_copy[:, 22:24] = 0\n",
    "\n",
    "            img_res.append(char_copy) #List that stores the character's binary image (unsorted)\n",
    "            \n",
    "    #Return characters on ascending order with respect to the x-coordinate (most-left character first)\n",
    "            \n",
    "    plt.show()\n",
    "    #arbitrary function that stores sorted list of character indeces\n",
    "    indices = sorted(range(len(x_cntr_list)), key=lambda k: x_cntr_list[k])\n",
    "    img_res_copy = []\n",
    "    for idx in indices:\n",
    "        img_res_copy.append(img_res[idx])# stores character images according to their index\n",
    "    img_res = np.array(img_res_copy)\n",
    "\n",
    "    return img_res"
   ]
  },
  {
   "cell_type": "code",
   "execution_count": 4,
   "metadata": {
    "colab": {},
    "colab_type": "code",
    "id": "h23diSmEUC-e"
   },
   "outputs": [],
   "source": [
    "# Find characters in the resulting images\n",
    "def segment_characters(image) :\n",
    "\n",
    "    # Preprocess cropped license plate image\n",
    "    img_lp = cv2.resize(image, (333, 75))\n",
    "    img_gray_lp = cv2.cvtColor(img_lp, cv2.COLOR_BGR2GRAY)\n",
    "    _, img_binary_lp = cv2.threshold(img_gray_lp, 200, 255, cv2.THRESH_BINARY+cv2.THRESH_OTSU)\n",
    "    img_binary_lp = cv2.erode(img_binary_lp, (3,3))\n",
    "    img_binary_lp = cv2.dilate(img_binary_lp, (3,3))\n",
    "\n",
    "    LP_WIDTH = img_binary_lp.shape[0]\n",
    "    LP_HEIGHT = img_binary_lp.shape[1]\n",
    "\n",
    "    # Make borders white\n",
    "    img_binary_lp[0:3,:] = 255\n",
    "    img_binary_lp[:,0:3] = 255\n",
    "    img_binary_lp[72:75,:] = 255\n",
    "    img_binary_lp[:,330:333] = 255\n",
    "\n",
    "    # Estimations of character contours sizes of cropped license plates\n",
    "    dimensions = [LP_WIDTH/6,\n",
    "                       LP_WIDTH/2,\n",
    "                       LP_HEIGHT/10,\n",
    "                       2*LP_HEIGHT/3]\n",
    "    plt.imshow(img_binary_lp, cmap='gray')\n",
    "    plt.show()\n",
    "    cv2.imwrite('contour.jpg',img_binary_lp)\n",
    "\n",
    "    # Get contours within cropped license plate\n",
    "    char_list = find_contours(dimensions, img_binary_lp)\n",
    "\n",
    "    return char_list"
   ]
  },
  {
   "cell_type": "code",
   "execution_count": 43,
   "metadata": {
    "colab": {
     "base_uri": "https://localhost:8080/",
     "height": 237
    },
    "colab_type": "code",
    "id": "OGhFmSnYUC-j",
    "outputId": "fabb6134-d314-439b-fb85-3967f315fd1c"
   },
   "outputs": [
    {
     "data": {
      "image/png": "[encoded data removed]",
      "text/plain": [
       "<Figure size 432x288 with 1 Axes>"
      ]
     },
     "metadata": {
      "needs_background": "light"
     },
     "output_type": "display_data"
    },
    {
     "data": {
      "image/png": "[encoded data removed]",
      "text/plain": [
       "<Figure size 432x288 with 1 Axes>"
      ]
     },
     "metadata": {
      "needs_background": "light"
     },
     "output_type": "display_data"
    }
   ],
   "source": [
    "img = cv2.imread('car_plate.png')\n",
    "char = segment_characters(img)"
   ]
  },
  {
   "cell_type": "code",
   "execution_count": 44,
   "metadata": {
    "colab": {
     "base_uri": "https://localhost:8080/",
     "height": 83
    },
    "colab_type": "code",
    "id": "rZoiyrDaUC-p",
    "outputId": "12c01433-ba9b-45fc-8663-ddf2f3a3cc22"
   },
   "outputs": [
    {
     "data": {
      "image/png": "[encoded data removed]",
      "text/plain": [
       "<Figure size 432x288 with 10 Axes>"
      ]
     },
     "metadata": {
      "needs_background": "light"
     },
     "output_type": "display_data"
    }
   ],
   "source": [
    "for i in range(10):\n",
    "    plt.subplot(1, 10, i+1)\n",
    "    plt.imshow(char[i], cmap='gray')\n",
    "    plt.axis('off')"
   ]
  },
  {
   "cell_type": "markdown",
   "metadata": {
    "colab_type": "text",
    "id": "QXhqHfXLUC-9"
   },
   "source": [
    "### Model for characters"
   ]
  },
  {
   "cell_type": "code",
   "execution_count": 45,
   "metadata": {
    "colab": {},
    "colab_type": "code",
    "id": "cnH_x_PXUC_A"
   },
   "outputs": [],
   "source": [
    "import tensorflow as tf\n",
    "#tf.enable_eager_execution()"
   ]
  },
  {
   "cell_type": "code",
   "execution_count": 46,
   "metadata": {
    "colab": {
     "base_uri": "https://localhost:8080/",
     "height": 51
    },
    "colab_type": "code",
    "id": "BhrsmfX9UC_p",
    "outputId": "0bd4c93b-dc04-4ca4-877b-9f084a03b550",
    "scrolled": true
   },
   "outputs": [
    {
     "name": "stdout",
     "output_type": "stream",
     "text": [
      "Found 864 images belonging to 36 classes.\n",
      "Found 216 images belonging to 36 classes.\n"
     ]
    }
   ],
   "source": [
    "from tensorflow.keras.preprocessing.image import ImageDataGenerator\n",
    "train_datagen = ImageDataGenerator(rescale=1./255, width_shift_range=0.1, height_shift_range=0.1)\n",
    "train_generator = train_datagen.flow_from_directory(\n",
    "        'data/train',  # this is the target directory\n",
    "        target_size=(28,28),  # all images will be resized to 28x28\n",
    "        batch_size=1,\n",
    "        class_mode='categorical')\n",
    "\n",
    "validation_generator = train_datagen.flow_from_directory(\n",
    "        'data/val',  # this is the target directory\n",
    "        target_size=(28,28),  # all images will be resized to 28x28        batch_size=1,\n",
    "        class_mode='categorical')"
   ]
  },
  {
   "cell_type": "code",
   "execution_count": 47,
   "metadata": {
    "colab": {},
    "colab_type": "code",
    "id": "jy9Ges8McSGl"
   },
   "outputs": [],
   "source": [
    "from tensorflow.keras.models import Sequential\n",
    "from tensorflow.keras.layers import Dense, Flatten, MaxPooling2D, Dropout, Conv2D\n",
    "from tensorflow.keras import optimizers"
   ]
  },
  {
   "cell_type": "code",
   "execution_count": 48,
   "metadata": {
    "colab": {},
    "colab_type": "code",
    "id": "8IjCdBYrp4EK",
    "scrolled": true
   },
   "outputs": [],
   "source": [
    "model = Sequential()\n",
    "model.add(Conv2D(32, (24,24), input_shape=(28, 28, 3), activation='relu', padding='same'))\n",
    "# model.add(Conv2D(32, (20,20), input_shape=(28, 28, 3), activation='relu', padding='same'))\n",
    "# model.add(Conv2D(32, (20,20), input_shape=(28, 28, 3), activation='relu', padding='same'))\n",
    "model.add(MaxPooling2D(pool_size=(2, 2)))\n",
    "model.add(Dropout(0.4))\n",
    "model.add(Flatten())\n",
    "model.add(Dense(128, activation='relu'))\n",
    "model.add(Dense(36, activation='softmax'))\n",
    "\n",
    "model.compile(loss='categorical_crossentropy', optimizer=optimizers.Adam(lr=0.00001), metrics=['accuracy'])"
   ]
  },
  {
   "cell_type": "code",
   "execution_count": 49,
   "metadata": {
    "colab": {},
    "colab_type": "code",
    "id": "w5aaqsHABUwx"
   },
   "outputs": [],
   "source": [
    "class stop_training_callback(tf.keras.callbacks.Callback):\n",
    "  def on_epoch_end(self, epoch, logs={}):\n",
    "    if(logs.get('acc') is not None and logs.get('acc') >= 0.992):\n",
    "      self.model.stop_training = True"
   ]
  },
  {
   "cell_type": "code",
   "execution_count": 50,
   "metadata": {
    "colab": {
     "base_uri": "https://localhost:8080/",
     "height": 34
    },
    "colab_type": "code",
    "id": "QqoZHrC6DBY3",
    "outputId": "04893bee-16d5-44a3-db5f-221cf155ba82"
   },
   "outputs": [],
   "source": [
    "import datetime\n",
    "#!rm -rf logs\n",
    "log_dir=\"logs/fit/\" + datetime.datetime.now().strftime(\"%Y%m%d-%H%M%S\")\n",
    "tensorboard_callback = tf.keras.callbacks.TensorBoard(log_dir=log_dir, histogram_freq=1)"
   ]
  },
  {
   "cell_type": "code",
   "execution_count": 70,
   "metadata": {
    "colab": {
     "base_uri": "https://localhost:8080/",
     "height": 1000
    },
    "colab_type": "code",
    "id": "KPAtDd_Jp4BP",
    "outputId": "fbdd1ad4-32fd-40b7-eb13-61ed1db14e47",
    "scrolled": true
   },
   "outputs": [
    {
     "name": "stdout",
     "output_type": "stream",
     "text": [
      "Epoch 1/80\n",
      "  5/864 [..............................] - ETA: 10s - loss: 3.5685 - accuracy: 0.0000e+00 WARNING:tensorflow:Callback method `on_train_batch_end` is slow compared to the batch time (batch time: 0.0118s vs `on_train_batch_end` time: 0.0224s). Check your callbacks.\n",
      "863/864 [============================>.] - ETA: 0s - loss: 3.5161 - accuracy: 0.0533WARNING:tensorflow:Your input ran out of data; interrupting training. Make sure that your dataset or generator can generate at least `steps_per_epoch * epochs` batches (in this case, 216 batches). You may need to use the repeat() function when building your dataset.\n",
      "864/864 [==============================] - 12s 13ms/step - loss: 3.5159 - accuracy: 0.0532 - val_loss: 3.3671 - val_accuracy: 0.1389\n",
      "Epoch 2/80\n",
      "864/864 [==============================] - 12s 14ms/step - loss: 3.1807 - accuracy: 0.1562\n",
      "Epoch 3/80\n",
      "864/864 [==============================] - 15s 18ms/step - loss: 2.6422 - accuracy: 0.3299\n",
      "Epoch 4/80\n",
      "864/864 [==============================] - 15s 18ms/step - loss: 2.1192 - accuracy: 0.4664\n",
      "Epoch 5/80\n",
      "864/864 [==============================] - 16s 18ms/step - loss: 1.7338 - accuracy: 0.5405\n",
      "Epoch 6/80\n",
      "864/864 [==============================] - 16s 18ms/step - loss: 1.4893 - accuracy: 0.6042\n",
      "Epoch 7/80\n",
      "864/864 [==============================] - 15s 18ms/step - loss: 1.2878 - accuracy: 0.6516\n",
      "Epoch 8/80\n",
      "864/864 [==============================] - 16s 18ms/step - loss: 1.1099 - accuracy: 0.6910\n",
      "Epoch 9/80\n",
      "864/864 [==============================] - 16s 18ms/step - loss: 1.0615 - accuracy: 0.6852\n",
      "Epoch 10/80\n",
      "864/864 [==============================] - 16s 18ms/step - loss: 0.9456 - accuracy: 0.7141\n",
      "Epoch 11/80\n",
      "864/864 [==============================] - 16s 18ms/step - loss: 0.8283 - accuracy: 0.7465\n",
      "Epoch 12/80\n",
      "864/864 [==============================] - 17s 20ms/step - loss: 0.7966 - accuracy: 0.7720\n",
      "Epoch 13/80\n",
      "864/864 [==============================] - 17s 20ms/step - loss: 0.7382 - accuracy: 0.7836\n",
      "Epoch 14/80\n",
      "864/864 [==============================] - 17s 20ms/step - loss: 0.6821 - accuracy: 0.7928\n",
      "Epoch 15/80\n",
      "864/864 [==============================] - 16s 18ms/step - loss: 0.6471 - accuracy: 0.8079\n",
      "Epoch 16/80\n",
      "864/864 [==============================] - 17s 20ms/step - loss: 0.5883 - accuracy: 0.8333\n",
      "Epoch 17/80\n",
      "864/864 [==============================] - 17s 19ms/step - loss: 0.5788 - accuracy: 0.8241\n",
      "Epoch 18/80\n",
      "864/864 [==============================] - 16s 18ms/step - loss: 0.5565 - accuracy: 0.8322\n",
      "Epoch 19/80\n",
      "864/864 [==============================] - 15s 18ms/step - loss: 0.5086 - accuracy: 0.8588\n",
      "Epoch 20/80\n",
      "864/864 [==============================] - 15s 18ms/step - loss: 0.4086 - accuracy: 0.8785\n",
      "Epoch 21/80\n",
      "864/864 [==============================] - 15s 17ms/step - loss: 0.4254 - accuracy: 0.8762\n",
      "Epoch 22/80\n",
      "864/864 [==============================] - 15s 17ms/step - loss: 0.3883 - accuracy: 0.8935\n",
      "Epoch 23/80\n",
      "864/864 [==============================] - 15s 18ms/step - loss: 0.3632 - accuracy: 0.8877\n",
      "Epoch 24/80\n",
      "864/864 [==============================] - 16s 19ms/step - loss: 0.3936 - accuracy: 0.8935\n",
      "Epoch 25/80\n",
      "864/864 [==============================] - 16s 18ms/step - loss: 0.3240 - accuracy: 0.9086\n",
      "Epoch 26/80\n",
      "864/864 [==============================] - 15s 18ms/step - loss: 0.3349 - accuracy: 0.9028\n",
      "Epoch 27/80\n",
      "864/864 [==============================] - 16s 19ms/step - loss: 0.3158 - accuracy: 0.9074\n",
      "Epoch 28/80\n",
      "864/864 [==============================] - 17s 19ms/step - loss: 0.2981 - accuracy: 0.9132\n",
      "Epoch 29/80\n",
      "864/864 [==============================] - 17s 20ms/step - loss: 0.2940 - accuracy: 0.9062\n",
      "Epoch 30/80\n",
      "864/864 [==============================] - 18s 21ms/step - loss: 0.2543 - accuracy: 0.9329\n",
      "Epoch 31/80\n",
      "864/864 [==============================] - 18s 20ms/step - loss: 0.2536 - accuracy: 0.9259\n",
      "Epoch 32/80\n",
      "864/864 [==============================] - 18s 21ms/step - loss: 0.2488 - accuracy: 0.9201\n",
      "Epoch 33/80\n",
      "864/864 [==============================] - 20s 23ms/step - loss: 0.2451 - accuracy: 0.9329\n",
      "Epoch 34/80\n",
      "864/864 [==============================] - 20s 23ms/step - loss: 0.2250 - accuracy: 0.9421\n",
      "Epoch 35/80\n",
      "864/864 [==============================] - 20s 23ms/step - loss: 0.2013 - accuracy: 0.9375\n",
      "Epoch 36/80\n",
      "864/864 [==============================] - 19s 22ms/step - loss: 0.2151 - accuracy: 0.9387\n",
      "Epoch 37/80\n",
      "864/864 [==============================] - 16s 19ms/step - loss: 0.1857 - accuracy: 0.9456\n",
      "Epoch 38/80\n",
      "864/864 [==============================] - 16s 19ms/step - loss: 0.1850 - accuracy: 0.9514\n",
      "Epoch 39/80\n",
      "864/864 [==============================] - 17s 20ms/step - loss: 0.1885 - accuracy: 0.9421\n",
      "Epoch 40/80\n",
      "864/864 [==============================] - 20s 23ms/step - loss: 0.1690 - accuracy: 0.9479\n",
      "Epoch 41/80\n",
      "864/864 [==============================] - 20s 23ms/step - loss: 0.1805 - accuracy: 0.9491\n",
      "Epoch 42/80\n",
      "864/864 [==============================] - 19s 22ms/step - loss: 0.1330 - accuracy: 0.9618\n",
      "Epoch 43/80\n",
      "864/864 [==============================] - 20s 23ms/step - loss: 0.1515 - accuracy: 0.9583\n",
      "Epoch 44/80\n",
      "864/864 [==============================] - 20s 23ms/step - loss: 0.1501 - accuracy: 0.9537\n",
      "Epoch 45/80\n",
      "864/864 [==============================] - 20s 23ms/step - loss: 0.1291 - accuracy: 0.9653\n",
      "Epoch 46/80\n",
      "864/864 [==============================] - 20s 23ms/step - loss: 0.1613 - accuracy: 0.9595\n",
      "Epoch 47/80\n",
      "864/864 [==============================] - 20s 23ms/step - loss: 0.1372 - accuracy: 0.9688\n",
      "Epoch 48/80\n",
      "864/864 [==============================] - 20s 23ms/step - loss: 0.1259 - accuracy: 0.9572\n",
      "Epoch 49/80\n",
      "864/864 [==============================] - 20s 23ms/step - loss: 0.1179 - accuracy: 0.9676\n",
      "Epoch 50/80\n",
      "864/864 [==============================] - 20s 23ms/step - loss: 0.1335 - accuracy: 0.9641\n",
      "Epoch 51/80\n",
      "864/864 [==============================] - 20s 23ms/step - loss: 0.1430 - accuracy: 0.9572\n",
      "Epoch 52/80\n",
      "864/864 [==============================] - 19s 22ms/step - loss: 0.1057 - accuracy: 0.9745\n",
      "Epoch 53/80\n",
      "864/864 [==============================] - 20s 23ms/step - loss: 0.1232 - accuracy: 0.9572\n",
      "Epoch 54/80\n",
      "864/864 [==============================] - 20s 23ms/step - loss: 0.1176 - accuracy: 0.9630\n",
      "Epoch 55/80\n",
      "864/864 [==============================] - 20s 23ms/step - loss: 0.1210 - accuracy: 0.9618\n",
      "Epoch 56/80\n",
      "864/864 [==============================] - 20s 23ms/step - loss: 0.1213 - accuracy: 0.9606\n",
      "Epoch 57/80\n",
      "864/864 [==============================] - 20s 23ms/step - loss: 0.1275 - accuracy: 0.9595\n",
      "Epoch 58/80\n",
      "864/864 [==============================] - 20s 23ms/step - loss: 0.0990 - accuracy: 0.9653\n",
      "Epoch 59/80\n",
      "864/864 [==============================] - 20s 23ms/step - loss: 0.1189 - accuracy: 0.9664\n",
      "Epoch 60/80\n",
      "864/864 [==============================] - 20s 23ms/step - loss: 0.0915 - accuracy: 0.9757\n",
      "Epoch 61/80\n",
      "864/864 [==============================] - 20s 23ms/step - loss: 0.0880 - accuracy: 0.9745\n",
      "Epoch 62/80\n",
      "864/864 [==============================] - 20s 23ms/step - loss: 0.0927 - accuracy: 0.9734\n",
      "Epoch 63/80\n",
      "864/864 [==============================] - 18s 21ms/step - loss: 0.0781 - accuracy: 0.9850\n",
      "Epoch 64/80\n",
      "864/864 [==============================] - 15s 17ms/step - loss: 0.1060 - accuracy: 0.9688\n",
      "Epoch 65/80\n",
      "864/864 [==============================] - 15s 17ms/step - loss: 0.1075 - accuracy: 0.9722\n",
      "Epoch 66/80\n",
      "864/864 [==============================] - 15s 17ms/step - loss: 0.0994 - accuracy: 0.9699\n",
      "Epoch 67/80\n",
      "864/864 [==============================] - 15s 17ms/step - loss: 0.0901 - accuracy: 0.9722\n",
      "Epoch 68/80\n",
      "864/864 [==============================] - 15s 17ms/step - loss: 0.0861 - accuracy: 0.9711\n",
      "Epoch 69/80\n",
      "864/864 [==============================] - 15s 17ms/step - loss: 0.0818 - accuracy: 0.9711\n",
      "Epoch 70/80\n",
      "864/864 [==============================] - 15s 17ms/step - loss: 0.0866 - accuracy: 0.9757\n",
      "Epoch 71/80\n",
      "864/864 [==============================] - 15s 17ms/step - loss: 0.0726 - accuracy: 0.9745\n",
      "Epoch 72/80\n",
      "864/864 [==============================] - 15s 17ms/step - loss: 0.0939 - accuracy: 0.9734\n",
      "Epoch 73/80\n",
      "864/864 [==============================] - 15s 17ms/step - loss: 0.0816 - accuracy: 0.9722\n",
      "Epoch 74/80\n"
     ]
    },
    {
     "name": "stdout",
     "output_type": "stream",
     "text": [
      "864/864 [==============================] - 15s 17ms/step - loss: 0.0790 - accuracy: 0.9769\n",
      "Epoch 75/80\n",
      "864/864 [==============================] - 15s 17ms/step - loss: 0.0785 - accuracy: 0.9699\n",
      "Epoch 76/80\n",
      "864/864 [==============================] - 15s 17ms/step - loss: 0.0808 - accuracy: 0.9757\n",
      "Epoch 77/80\n",
      "864/864 [==============================] - 15s 17ms/step - loss: 0.0676 - accuracy: 0.9757\n",
      "Epoch 78/80\n",
      "864/864 [==============================] - 15s 17ms/step - loss: 0.0730 - accuracy: 0.9826\n",
      "Epoch 79/80\n",
      "864/864 [==============================] - 15s 17ms/step - loss: 0.0771 - accuracy: 0.9734\n",
      "Epoch 80/80\n",
      "864/864 [==============================] - 15s 17ms/step - loss: 0.0701 - accuracy: 0.9803\n"
     ]
    },
    {
     "data": {
      "text/plain": [
       "<keras.callbacks.History at 0x166344ba530>"
      ]
     },
     "execution_count": 70,
     "metadata": {},
     "output_type": "execute_result"
    }
   ],
   "source": [
    "batch_size = 1\n",
    "callbacks = [tensorboard_callback, stop_training_callback()]\n",
    "model.fit(\n",
    "      train_generator,\n",
    "      steps_per_epoch = train_generator.samples //batch_size,\n",
    "      validation_data = validation_generator, \n",
    "      validation_steps = validation_generator.samples // batch_size,\n",
    "      epochs = 80, callbacks=callbacks)"
   ]
  },
  {
   "cell_type": "code",
   "execution_count": 74,
   "metadata": {},
   "outputs": [],
   "source": [
    "model.save('./models/object_detection.h5')"
   ]
  },
  {
   "cell_type": "code",
   "execution_count": 71,
   "metadata": {
    "colab": {},
    "colab_type": "code",
    "id": "qFevjr5YcSDU",
    "scrolled": true
   },
   "outputs": [
    {
     "name": "stdout",
     "output_type": "stream",
     "text": [
      "The tensorboard extension is already loaded. To reload it, use:\n",
      "  %reload_ext tensorboard\n"
     ]
    },
    {
     "data": {
      "text/plain": [
       "Reusing TensorBoard on port 6006 (pid 5912), started 2:57:25 ago. (Use '!kill 5912' to kill it.)"
      ]
     },
     "metadata": {},
     "output_type": "display_data"
    },
    {
     "data": {
      "text/html": [
       "\n",
       "      <iframe id=\"tensorboard-frame-58d66a7d19f9d8f\" width=\"100%\" height=\"800\" frameborder=\"0\">\n",
       "      </iframe>\n",
       "      <script>\n",
       "        (function() {\n",
       "          const frame = document.getElementById(\"tensorboard-frame-58d66a7d19f9d8f\");\n",
       "          const url = new URL(\"/\", window.location);\n",
       "          const port = 6006;\n",
       "          if (port) {\n",
       "            url.port = port;\n",
       "          }\n",
       "          frame.src = url;\n",
       "        })();\n",
       "      </script>\n",
       "    "
      ],
      "text/plain": [
       "<IPython.core.display.HTML object>"
      ]
     },
     "metadata": {},
     "output_type": "display_data"
    }
   ],
   "source": [
    "# !kill 8400\n",
    "%load_ext tensorboard\n",
    "%tensorboard --logdir logs/fit"
   ]
  },
  {
   "cell_type": "code",
   "execution_count": null,
   "metadata": {},
   "outputs": [],
   "source": [
    "model = tf.keras.models.load_model('./models/object_detection.h5')"
   ]
  },
  {
   "cell_type": "code",
   "execution_count": 72,
   "metadata": {
    "colab": {
     "base_uri": "https://localhost:8080/",
     "height": 34
    },
    "colab_type": "code",
    "id": "3PICNwtZUDAD",
    "outputId": "483eda61-5d3a-4600-ab47-e1cd1bb6058e",
    "scrolled": false
   },
   "outputs": [
    {
     "name": "stdout",
     "output_type": "stream",
     "text": [
      "0L8CAF5030\n"
     ]
    }
   ],
   "source": [
    "def fix_dimension(img): \n",
    "  new_img = np.zeros((28,28,3))\n",
    "  for i in range(3):\n",
    "    new_img[:,:,i] = img\n",
    "  return new_img\n",
    "  \n",
    "def show_results():\n",
    "    dic = {}\n",
    "    characters = '0123456789ABCDEFGHIJKLMNOPQRSTUVWXYZ'\n",
    "    for i,c in enumerate(characters):\n",
    "        dic[i] = c\n",
    "\n",
    "    output = []\n",
    "    for i,ch in enumerate(char): #iterating over the characters\n",
    "        img_ = cv2.resize(ch, (28,28))\n",
    "        img = fix_dimension(img_)\n",
    "        img = img.reshape(1,28,28,3) #preparing image for the model\n",
    "        y_ = model.predict(img)[0] #predicting the class  \n",
    "        \n",
    "        #character = dic[y_] #\n",
    "        indice = np.where(y_ == np.amax(y_))\n",
    "        dic[indice[0][0]]\n",
    "        character=dic[indice[0][0]]\n",
    "        output.append(character) #storing the result in a list\n",
    "    plate_number = ''.join(output)\n",
    "    \n",
    "    return plate_number\n",
    "\n",
    "print(show_results())"
   ]
  },
  {
   "cell_type": "code",
   "execution_count": 73,
   "metadata": {
    "colab": {
     "base_uri": "https://localhost:8080/",
     "height": 373
    },
    "colab_type": "code",
    "id": "urZpH4YFUDAI",
    "outputId": "6688d92e-0c11-48c7-baa3-1c44b36873aa",
    "scrolled": true
   },
   "outputs": [
    {
     "data": {
      "image/png": "[encoded data removed]",
      "text/plain": [
       "<Figure size 720x432 with 10 Axes>"
      ]
     },
     "metadata": {
      "needs_background": "light"
     },
     "output_type": "display_data"
    }
   ],
   "source": [
    "plt.figure(figsize=(10,6))\n",
    "for i,ch in enumerate(char):\n",
    "    img = cv2.resize(ch, (28,28))\n",
    "    plt.subplot(3,4,i+1)\n",
    "    plt.imshow(img,cmap='gray')\n",
    "    plt.title(f'predicted: {show_results()[i]}')\n",
    "    plt.axis('off')\n",
    "plt.show()"
   ]
  },
  {
   "cell_type": "code",
   "execution_count": 0,
   "metadata": {
    "colab": {},
    "colab_type": "code",
    "id": "uBboEZgAUDAT"
   },
   "outputs": [],
   "source": []
  }
 ],
 "metadata": {
  "accelerator": "GPU",
  "colab": {
   "collapsed_sections": [],
   "name": "ai_powered_license_plate_detector.ipynb",
   "provenance": []
  },
  "kernelspec": {
   "display_name": "Python 3 (ipykernel)",
   "language": "python",
   "name": "python3"
  },
  "language_info": {
   "codemirror_mode": {
    "name": "ipython",
    "version": 3
   },
   "file_extension": ".py",
   "mimetype": "text/x-python",
   "name": "python",
   "nbconvert_exporter": "python",
   "pygments_lexer": "ipython3",
   "version": "3.10.2"
  }
 },
 "nbformat": 4,
 "nbformat_minor": 1
}
